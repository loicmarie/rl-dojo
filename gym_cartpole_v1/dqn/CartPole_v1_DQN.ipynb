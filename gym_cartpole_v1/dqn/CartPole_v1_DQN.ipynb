{
 "cells": [
  {
   "cell_type": "markdown",
   "metadata": {},
   "source": [
    "# CartPole v1 Deep Q-Network\n",
    "\n",
    "CartPole v1 problem resolution using DQN (Q-Learning using Neural Network and experience replay) with Tensorflow.\n",
    "See [online example](https://gym.openai.com/evaluations/eval_mfdVUMogTqm45rdSFmvluQ) at Gym OpenAI."
   ]
  },
  {
   "cell_type": "code",
   "execution_count": 1,
   "metadata": {
    "collapsed": true
   },
   "outputs": [],
   "source": [
    "import numpy as np\n",
    "import random\n",
    "import gym\n",
    "from gym import wrappers\n",
    "import matplotlib.pyplot as plt\n",
    "import tensorflow as tf"
   ]
  },
  {
   "cell_type": "code",
   "execution_count": 2,
   "metadata": {},
   "outputs": [
    {
     "name": "stderr",
     "output_type": "stream",
     "text": [
      "[2017-08-26 19:11:14,287] Making new env: CartPole-v1\n",
      "[2017-08-26 19:11:14,305] Clearing 24 monitor files from previous run (because force=True was provided)\n"
     ]
    }
   ],
   "source": [
    "env = gym.make('CartPole-v1')\n",
    "env = wrappers.Monitor(env, 'CartPole-record',force=True)"
   ]
  },
  {
   "cell_type": "markdown",
   "metadata": {},
   "source": [
    "## Config"
   ]
  },
  {
   "cell_type": "code",
   "execution_count": 3,
   "metadata": {
    "collapsed": true
   },
   "outputs": [],
   "source": [
    "# Env variables\n",
    "nb_actions = 2\n",
    "\n",
    "# Training tuning\n",
    "train_batch_size = 100\n",
    "e = 0.2\n",
    "e_decay = 0.99995\n",
    "y = .9\n",
    "lr = 1.0\n",
    "\n",
    "# Training loop\n",
    "nb_max_episodes = 3000\n",
    "episode_count = 0\n",
    "total_steps = 0\n",
    "update_freq = 300\n",
    "test_freq = 100\n",
    "log_freq = 100"
   ]
  },
  {
   "cell_type": "markdown",
   "metadata": {},
   "source": [
    "## Training"
   ]
  },
  {
   "cell_type": "markdown",
   "metadata": {},
   "source": [
    "### Model"
   ]
  },
  {
   "cell_type": "code",
   "execution_count": 4,
   "metadata": {},
   "outputs": [],
   "source": [
    "n_input = 4\n",
    "n_hidden_1 = 128\n",
    "n_hidden_2 = 128\n",
    "\n",
    "tf.reset_default_graph()\n",
    "\n",
    "weights = {\n",
    "    'h1': tf.Variable(tf.random_normal([n_input, n_hidden_1])),\n",
    "    'h2': tf.Variable(tf.random_normal([n_hidden_1, n_hidden_2])),\n",
    "    'out': tf.Variable(tf.random_normal([n_hidden_1, nb_actions]))\n",
    "}\n",
    "biases = {\n",
    "    'b1': tf.Variable(tf.random_normal([n_hidden_1])),\n",
    "    'b2': tf.Variable(tf.random_normal([n_hidden_2])),\n",
    "    'out': tf.Variable(tf.random_normal([nb_actions]))\n",
    "}\n",
    "\n",
    "x = tf.placeholder(shape=[None,4],dtype=tf.float32)\n",
    "layer_1 = tf.nn.tanh(tf.add(tf.matmul(x, weights['h1']), biases['b1']))\n",
    "layer_2 = tf.nn.tanh(tf.add(tf.matmul(layer_1, weights['h2']), biases['b2']))\n",
    "Qout = tf.add(tf.matmul(layer_2, weights['out']), biases['out'])\n",
    "\n",
    "nextQ = tf.placeholder(shape=[None,nb_actions],dtype=tf.float32)\n",
    "loss = tf.reduce_sum(tf.square(nextQ - Qout))\n",
    "trainer = tf.train.AdamOptimizer(learning_rate=0.0001)\n",
    "update_model = trainer.minimize(loss)"
   ]
  },
  {
   "cell_type": "markdown",
   "metadata": {},
   "source": [
    "### Experience Replay"
   ]
  },
  {
   "cell_type": "code",
   "execution_count": 5,
   "metadata": {
    "collapsed": true
   },
   "outputs": [],
   "source": [
    "class ExperienceBuffer():\n",
    "    def __init__(self, buffer_size = 100000):\n",
    "        self.buffer = []\n",
    "        self.buffer_size = buffer_size\n",
    "    \n",
    "    def add(self,experience):\n",
    "        if len(self.buffer) + len(experience) >= self.buffer_size:\n",
    "            self.buffer = self.buffer[:1]\n",
    "        self.buffer.append(experience)\n",
    "            \n",
    "    def sample(self,size):\n",
    "        return random.sample(self.buffer, size)"
   ]
  },
  {
   "cell_type": "markdown",
   "metadata": {},
   "source": [
    "### Test accurracy"
   ]
  },
  {
   "cell_type": "code",
   "execution_count": 6,
   "metadata": {
    "collapsed": true
   },
   "outputs": [],
   "source": [
    "def test_accurracy():\n",
    "    test_batch_size = 100\n",
    "    c = 0\n",
    "    nb_success = 0.0\n",
    "    max_time, min_time = 0.0, float('inf')\n",
    "    while c < test_batch_size:\n",
    "        j = 0\n",
    "        is_gameover = False\n",
    "        state = env.reset()\n",
    "        while not is_gameover:\n",
    "            j += 1\n",
    "            Q1 = sess.run(Qout, feed_dict={x: [state]})[0]\n",
    "            action = np.argmax(Q1)\n",
    "            next_state, reward, is_gameover, _ = env.step(action)\n",
    "#             env.render()\n",
    "            state = next_state\n",
    "        nb_success += j\n",
    "        max_time = max(j, max_time)\n",
    "        min_time = min(j, min_time)\n",
    "        c += 1\n",
    "    return nb_success / c, min_time, max_time"
   ]
  },
  {
   "cell_type": "markdown",
   "metadata": {},
   "source": [
    "### Training Loop"
   ]
  },
  {
   "cell_type": "code",
   "execution_count": 7,
   "metadata": {
    "scrolled": true
   },
   "outputs": [
    {
     "name": "stderr",
     "output_type": "stream",
     "text": [
      "[2017-08-26 19:11:21,026] Starting new video recorder writing to D:\\workspace\\rl-dojo\\gym_cartpole_v1\\dqn\\CartPole-record\\openaigym.video.0.20068.video000000.mp4\n",
      "[2017-08-26 19:11:22,227] Starting new video recorder writing to D:\\workspace\\rl-dojo\\gym_cartpole_v1\\dqn\\CartPole-record\\openaigym.video.0.20068.video000001.mp4\n",
      "[2017-08-26 19:11:22,808] Starting new video recorder writing to D:\\workspace\\rl-dojo\\gym_cartpole_v1\\dqn\\CartPole-record\\openaigym.video.0.20068.video000008.mp4\n",
      "[2017-08-26 19:11:23,595] Starting new video recorder writing to D:\\workspace\\rl-dojo\\gym_cartpole_v1\\dqn\\CartPole-record\\openaigym.video.0.20068.video000027.mp4\n",
      "[2017-08-26 19:11:24,662] Starting new video recorder writing to D:\\workspace\\rl-dojo\\gym_cartpole_v1\\dqn\\CartPole-record\\openaigym.video.0.20068.video000064.mp4\n",
      "[2017-08-26 19:11:26,556] Starting new video recorder writing to D:\\workspace\\rl-dojo\\gym_cartpole_v1\\dqn\\CartPole-record\\openaigym.video.0.20068.video000125.mp4\n"
     ]
    },
    {
     "name": "stdout",
     "output_type": "stream",
     "text": [
      "step: 2565, episode: 100, mean time: 40.25. min: 27. max: 68. random move probability: 0.1768168208876812\n"
     ]
    },
    {
     "name": "stderr",
     "output_type": "stream",
     "text": [
      "[2017-08-26 19:11:29,280] Starting new video recorder writing to D:\\workspace\\rl-dojo\\gym_cartpole_v1\\dqn\\CartPole-record\\openaigym.video.0.20068.video000216.mp4\n",
      "[2017-08-26 19:11:40,750] Starting new video recorder writing to D:\\workspace\\rl-dojo\\gym_cartpole_v1\\dqn\\CartPole-record\\openaigym.video.0.20068.video000343.mp4\n"
     ]
    },
    {
     "name": "stdout",
     "output_type": "stream",
     "text": [
      "step: 12737, episode: 200, mean time: 118.25. min: 40. max: 459. random move probability: 0.10685809037501894\n"
     ]
    },
    {
     "name": "stderr",
     "output_type": "stream",
     "text": [
      "[2017-08-26 19:11:55,812] Starting new video recorder writing to D:\\workspace\\rl-dojo\\gym_cartpole_v1\\dqn\\CartPole-record\\openaigym.video.0.20068.video000512.mp4\n"
     ]
    },
    {
     "name": "stdout",
     "output_type": "stream",
     "text": [
      "step: 25174, episode: 300, mean time: 98.5. min: 50. max: 177. random move probability: 0.05766418523297385\n"
     ]
    },
    {
     "name": "stderr",
     "output_type": "stream",
     "text": [
      "[2017-08-26 19:12:16,637] Starting new video recorder writing to D:\\workspace\\rl-dojo\\gym_cartpole_v1\\dqn\\CartPole-record\\openaigym.video.0.20068.video000729.mp4\n"
     ]
    },
    {
     "name": "stdout",
     "output_type": "stream",
     "text": [
      "step: 41713, episode: 400, mean time: 215.56. min: 128. max: 399. random move probability: 0.025347135479773644\n"
     ]
    },
    {
     "name": "stderr",
     "output_type": "stream",
     "text": [
      "[2017-08-26 19:13:01,698] Starting new video recorder writing to D:\\workspace\\rl-dojo\\gym_cartpole_v1\\dqn\\CartPole-record\\openaigym.video.0.20068.video001000.mp4\n"
     ]
    },
    {
     "name": "stdout",
     "output_type": "stream",
     "text": [
      "step: 72972, episode: 500, mean time: 370.34. min: 169. max: 500. random move probability: 0.005337069794683582\n"
     ]
    },
    {
     "name": "stderr",
     "output_type": "stream",
     "text": [
      "[2017-08-26 19:13:51,629] Finished writing results. You can upload them to the scoreboard via gym.upload('D:\\\\workspace\\\\rl-dojo\\\\gym_cartpole_v1\\\\dqn\\\\CartPole-record')\n"
     ]
    },
    {
     "name": "stdout",
     "output_type": "stream",
     "text": [
      "step: 107315, episode: 600, mean time: 489.76. min: 258. max: 500. random move probability: 0.000963178977454723\n"
     ]
    }
   ],
   "source": [
    "mean_times = []\n",
    "rewards = []\n",
    "minus_hist = []\n",
    "plus_hist = []\n",
    "\n",
    "init = tf.global_variables_initializer()\n",
    "\n",
    "replay_buffer = ExperienceBuffer()\n",
    "\n",
    "finished = False\n",
    "\n",
    "with tf.Session() as sess:\n",
    "    sess.run(init)\n",
    "    \n",
    "    while not finished:\n",
    "        state = env.reset()\n",
    "        is_gameover = False\n",
    "        reward_tot = 0\n",
    "        episode_step = 0\n",
    "        \n",
    "        while not is_gameover:\n",
    "            episode_step += 1\n",
    "\n",
    "            # Eval current state\n",
    "            Q1 = sess.run(Qout, feed_dict={x: [state]})[0]\n",
    "            \n",
    "            action_minus, action_plus = Q1\n",
    "            minus_hist.append(action_minus)\n",
    "            plus_hist.append(action_plus)\n",
    "            \n",
    "            if random.random() < e:\n",
    "                action = random.randint(0, nb_actions-1)\n",
    "            else:\n",
    "                action = np.argmax(Q1)\n",
    "                \n",
    "            # Play best move with chance of random\n",
    "            next_state, reward, is_gameover, _ = env.step(action)\n",
    "            \n",
    "            if is_gameover:\n",
    "                reward = -100\n",
    "                \n",
    "            # Eval next state\n",
    "            Q2 = sess.run(Qout, feed_dict={x: [next_state]})[0]\n",
    "            \n",
    "            # Update first state evaluation\n",
    "            Q1[action] += lr * (reward + y*np.max(Q2) - Q1[action])\n",
    "            sess.run(update_model,feed_dict={x: [state], nextQ:[Q1]})\n",
    "\n",
    "            # Register experience\n",
    "            replay_buffer.add((state,Q1))\n",
    "\n",
    "            reward_tot += reward\n",
    "            total_steps += 1\n",
    "            state = next_state\n",
    "\n",
    "            if is_gameover:\n",
    "                break\n",
    "\n",
    "            e *= e_decay\n",
    "        \n",
    "        if total_steps % (update_freq) == 0 and len(replay_buffer.buffer) > train_batch_size:\n",
    "            train_batch = replay_buffer.sample(train_batch_size)\n",
    "            train_x, train_Q = list(zip(*train_batch))\n",
    "            \n",
    "            #Update the network with our target values.\n",
    "            sess.run(update_model, feed_dict={\n",
    "                x: train_x,\n",
    "                nextQ: train_Q\n",
    "            })\n",
    "        \n",
    "        if episode_count % test_freq == 0 and episode_count != 0:\n",
    "            mean_time, min_time, max_time = test_accurracy()\n",
    "            mean_times.append(mean_time)\n",
    "\n",
    "            if episode_count % log_freq == 0:\n",
    "                print('step: %s, episode: %s, mean time: %s. min: %s. max: %s. random move probability: %s' \n",
    "                      % (total_steps, episode_count, mean_time, min_time, max_time, e))\n",
    "                \n",
    "            if mean_time > 480:\n",
    "                finished = True\n",
    "                \n",
    "        episode_count += 1\n",
    "        rewards.append(reward_tot)\n",
    "    env.close()"
   ]
  },
  {
   "cell_type": "markdown",
   "metadata": {},
   "source": [
    "### Metrics"
   ]
  },
  {
   "cell_type": "code",
   "execution_count": 8,
   "metadata": {
    "scrolled": true
   },
   "outputs": [
    {
     "data": {
      "image/png": "[encoded data removed]",
      "text/plain": [
       "<matplotlib.figure.Figure at 0x18ec4fd1898>"
      ]
     },
     "metadata": {},
     "output_type": "display_data"
    }
   ],
   "source": [
    "import matplotlib.pyplot as plt\n",
    "plt.plot(mean_times)\n",
    "plt.xlabel('steps')\n",
    "plt.ylabel('mean time')\n",
    "plt.show()"
   ]
  },
  {
   "cell_type": "code",
   "execution_count": 9,
   "metadata": {},
   "outputs": [
    {
     "data": {
      "image/png": "[encoded data removed]",
      "text/plain": [
       "<matplotlib.figure.Figure at 0x18ecbe13438>"
      ]
     },
     "metadata": {},
     "output_type": "display_data"
    }
   ],
   "source": [
    "f, (ax1, ax2) = plt.subplots(1, 2, sharey=True)\n",
    "ax1.plot(minus_hist)\n",
    "ax1.set_title('Minus QValues')\n",
    "ax2.plot(plus_hist)\n",
    "ax2.set_title('Plus QValues')\n",
    "plt.show()"
   ]
  },
  {
   "cell_type": "markdown",
   "metadata": {},
   "source": [
    "### Upload results on Gym OpenAI"
   ]
  },
  {
   "cell_type": "code",
   "execution_count": 10,
   "metadata": {},
   "outputs": [
    {
     "name": "stderr",
     "output_type": "stream",
     "text": [
      "[2017-08-26 19:14:27,019] [CartPole-v1] Uploading 1201 episodes of training data\n",
      "[2017-08-26 19:14:30,066] [CartPole-v1] Uploading videos of 11 training episodes (80123 bytes)\n",
      "[2017-08-26 19:14:30,848] [CartPole-v1] Creating evaluation object from CartPole-record with learning curve and training video\n",
      "[2017-08-26 19:14:31,364] \n",
      "****************************************************\n",
      "You successfully uploaded your evaluation on CartPole-v1 to\n",
      "OpenAI Gym! You can find it at:\n",
      "\n",
      "    https://gym.openai.com/evaluations/eval_mfdVUMogTqm45rdSFmvluQ\n",
      "\n",
      "****************************************************\n"
     ]
    }
   ],
   "source": [
    "gym.upload('CartPole-record', api_key='your_key')"
   ]
  }
 ],
 "metadata": {
  "kernelspec": {
   "display_name": "Python 3",
   "language": "python",
   "name": "python3"
  },
  "language_info": {
   "codemirror_mode": {
    "name": "ipython",
    "version": 3
   },
   "file_extension": ".py",
   "mimetype": "text/x-python",
   "name": "python",
   "nbconvert_exporter": "python",
   "pygments_lexer": "ipython3",
   "version": "3.5.3"
  }
 },
 "nbformat": 4,
 "nbformat_minor": 2
}
