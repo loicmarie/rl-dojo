{
 "cells": [
  {
   "cell_type": "markdown",
   "metadata": {},
   "source": [
    "# FrozenLake Q-Learning\n",
    "\n",
    "FrozenLake pro"
   ]
  },
  {
   "cell_type": "code",
   "execution_count": 1,
   "metadata": {
    "collapsed": true
   },
   "outputs": [],
   "source": [
    "import numpy as np\n",
    "import random\n",
    "import gym\n",
    "from gym import wrappers\n",
    "import matplotlib.pyplot as plt"
   ]
  },
  {
   "cell_type": "code",
   "execution_count": 2,
   "metadata": {},
   "outputs": [
    {
     "name": "stderr",
     "output_type": "stream",
     "text": [
      "[2017-08-25 16:18:34,065] Making new env: FrozenLake-v0\n"
     ]
    }
   ],
   "source": [
    "env = gym.make('FrozenLake-v0')\n",
    "env = wrappers.Monitor(env, 'FrozenLake-record',force=True)"
   ]
  },
  {
   "cell_type": "markdown",
   "metadata": {},
   "source": [
    "## Config"
   ]
  },
  {
   "cell_type": "code",
   "execution_count": 14,
   "metadata": {
    "collapsed": true
   },
   "outputs": [],
   "source": [
    "# Env variables\n",
    "nb_states = 16\n",
    "nb_actions = 4\n",
    "\n",
    "# Training tuning\n",
    "e = 1.0\n",
    "e_decay = 0.999\n",
    "y = .95\n",
    "lr = .8\n",
    "\n",
    "# Training loop\n",
    "nb_max_episodes = 15000\n",
    "episode_count = 0\n",
    "total_steps = 0\n",
    "test_freq = 50\n",
    "log_freq = 500"
   ]
  },
  {
   "cell_type": "markdown",
   "metadata": {},
   "source": [
    "## Training"
   ]
  },
  {
   "cell_type": "markdown",
   "metadata": {},
   "source": [
    "### Init Q-Table"
   ]
  },
  {
   "cell_type": "code",
   "execution_count": 16,
   "metadata": {
    "collapsed": true
   },
   "outputs": [],
   "source": [
    "Qout = np.zeros((nb_states, nb_actions))"
   ]
  },
  {
   "cell_type": "markdown",
   "metadata": {},
   "source": [
    "### Test accurracy"
   ]
  },
  {
   "cell_type": "code",
   "execution_count": 20,
   "metadata": {
    "collapsed": true
   },
   "outputs": [],
   "source": [
    "def test_accurracy():\n",
    "    test_batch_size = 200\n",
    "    c = 0\n",
    "    nb_success = 0.0\n",
    "    while c < test_batch_size:\n",
    "        is_gameover = False\n",
    "        state = env.reset()\n",
    "        while not is_gameover:\n",
    "            action = np.argmax(Qout[state,:])\n",
    "            next_state, reward, is_gameover, _ = env.step(action)\n",
    "            state = next_state\n",
    "        if reward == 1:\n",
    "            nb_success += 1\n",
    "        c += 1\n",
    "    return nb_success / c"
   ]
  },
  {
   "cell_type": "markdown",
   "metadata": {},
   "source": [
    "### Training Loop"
   ]
  },
  {
   "cell_type": "code",
   "execution_count": 18,
   "metadata": {
    "scrolled": true
   },
   "outputs": [
    {
     "name": "stdout",
     "output_type": "stream",
     "text": [
      "step: 4223, episode: 500, accurracy: 0.075. keep move probability: 0.6057725659163237\n",
      "step: 9192, episode: 1000, accurracy: 0.555. keep move probability: 0.36732772934619257\n",
      "step: 15280, episode: 1500, accurracy: 0.0. keep move probability: 0.22273980093919937\n",
      "step: 23713, episode: 2000, accurracy: 0.545. keep move probability: 0.13506472547210188\n",
      "step: 33529, episode: 2500, accurracy: 0.28. keep move probability: 0.08190040571973876\n",
      "step: 45574, episode: 3000, accurracy: 0.445. keep move probability: 0.049662681604038215\n",
      "step: 60402, episode: 3500, accurracy: 0.525. keep move probability: 0.030114404470033673\n",
      "step: 74397, episode: 4000, accurracy: 0.7. keep move probability: 0.018260740807661956\n",
      "step: 92734, episode: 4500, accurracy: 0.715. keep move probability: 0.011072928743333644\n",
      "step: 113581, episode: 5000, accurracy: 0.725. keep move probability: 0.006714390847905742\n",
      "step: 134886, episode: 5500, accurracy: 0.7. keep move probability: 0.004071465237738676\n",
      "step: 156500, episode: 6000, accurracy: 0.62. keep move probability: 0.0024688507948989738\n",
      "step: 177967, episode: 6500, accurracy: 0.705. keep move probability: 0.0014970591400305351\n",
      "step: 200127, episode: 7000, accurracy: 0.765. keep move probability: 0.0009077851417265054\n",
      "step: 222191, episode: 7500, accurracy: 0.75. keep move probability: 0.0005504617964007802\n",
      "step: 246181, episode: 8000, accurracy: 0.495. keep move probability: 0.0003337884432878974\n",
      "step: 271325, episode: 8500, accurracy: 0.77. keep move probability: 0.00020240228404777254\n",
      "step: 294525, episode: 9000, accurracy: 0.76. keep move probability: 0.00012273248343838214\n",
      "step: 316001, episode: 9500, accurracy: 0.745. keep move probability: 7.44223938075589e-05\n",
      "step: 344156, episode: 10000, accurracy: 0.765. keep move probability: 4.5128172631071065e-05\n",
      "step: 367260, episode: 10500, accurracy: 0.72. keep move probability: 2.7364773703542285e-05\n",
      "step: 388216, episode: 11000, accurracy: 0.63. keep move probability: 1.659342260471908e-05\n",
      "step: 410623, episode: 11500, accurracy: 0.77. keep move probability: 1.006190209068529e-05\n",
      "step: 433689, episode: 12000, accurracy: 0.755. keep move probability: 6.101325573046306e-06\n",
      "step: 458736, episode: 12500, accurracy: 0.75. keep move probability: 3.6997153632383808e-06\n",
      "step: 480916, episode: 13000, accurracy: 0.78. keep move probability: 2.243429498247208e-06\n",
      "step: 503209, episode: 13500, accurracy: 0.75. keep move probability: 1.3603684120175983e-06\n",
      "step: 525449, episode: 14000, accurracy: 0.67. keep move probability: 8.248987623017148e-07\n",
      "step: 548675, episode: 14500, accurracy: 0.79. keep move probability: 5.002012411018101e-07\n"
     ]
    }
   ],
   "source": [
    "accurracies = []\n",
    "rewards = []\n",
    "while episode_count < nb_max_episodes:\n",
    "    state = env.reset()\n",
    "    is_gameover = False\n",
    "    reward_tot = 0\n",
    "    episode_step = 0\n",
    "    while not is_gameover:\n",
    "        episode_step += 1\n",
    "        \n",
    "        if random.random() < e:\n",
    "            action = random.randint(0, nb_actions-1)\n",
    "        else:\n",
    "            action = np.argmax(Qout[state,:])\n",
    "\n",
    "        next_state, reward, is_gameover, _ = env.step(action)\n",
    "        \n",
    "        Qout[state, action] += lr * (reward + y*np.max(Qout[next_state,:]) - Qout[state, action])\n",
    "        \n",
    "        reward_tot += reward\n",
    "        total_steps += 1\n",
    "        state = next_state\n",
    "        \n",
    "        if is_gameover:\n",
    "            break\n",
    "            \n",
    "    e *= e_decay\n",
    "    \n",
    "    if episode_count % test_freq == 0 and episode_count != 0:\n",
    "        accurr, mean_reward = test_accurracy()\n",
    "        accurracies.append(accurr)\n",
    "        \n",
    "        if episode_count % log_freq == 0:\n",
    "            print('step: %s, episode: %s, accurracy: %s. random move probability: %s' % (total_steps, episode_count, accurr, e))\n",
    "        \n",
    "    episode_count += 1\n",
    "    rewards.append(reward_tot)\n",
    "env.close()"
   ]
  },
  {
   "cell_type": "markdown",
   "metadata": {},
   "source": [
    "### Metrics"
   ]
  },
  {
   "cell_type": "code",
   "execution_count": 19,
   "metadata": {},
   "outputs": [
    {
     "data": {
      "image/png": "[encoded data removed]",
      "text/plain": [
       "<matplotlib.figure.Figure at 0x1f64a015668>"
      ]
     },
     "metadata": {},
     "output_type": "display_data"
    }
   ],
   "source": [
    "import matplotlib.pyplot as plt\n",
    "plt.plot(accurracies)\n",
    "plt.xlabel('steps')\n",
    "plt.ylabel('accurracy')\n",
    "plt.show()"
   ]
  },
  {
   "cell_type": "markdown",
   "metadata": {},
   "source": [
    "### Upload results on Gym OpenAI"
   ]
  },
  {
   "cell_type": "code",
   "execution_count": null,
   "metadata": {
    "collapsed": true
   },
   "outputs": [],
   "source": [
    "import gym\n",
    "gym.upload('FrozenLake-records', api_key='your_key')"
   ]
  }
 ],
 "metadata": {
  "kernelspec": {
   "display_name": "Python 3",
   "language": "python",
   "name": "python3"
  },
  "language_info": {
   "codemirror_mode": {
    "name": "ipython",
    "version": 3
   },
   "file_extension": ".py",
   "mimetype": "text/x-python",
   "name": "python",
   "nbconvert_exporter": "python",
   "pygments_lexer": "ipython3",
   "version": "3.5.3"
  }
 },
 "nbformat": 4,
 "nbformat_minor": 2
}
