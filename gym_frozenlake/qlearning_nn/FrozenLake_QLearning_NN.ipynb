{
 "cells": [
  {
   "cell_type": "markdown",
   "metadata": {},
   "source": [
    "# FrozenLake Q-Learning using Neural Network\n",
    "\n",
    "FrozenLake problem resolution using neural network with Tensorflow.\n",
    "See [online example](https://gym.openai.com/evaluations/eval_UaLF7xtQSNyODLUblAhfVg) at Gym OpenAI."
   ]
  },
  {
   "cell_type": "code",
   "execution_count": 23,
   "metadata": {
    "collapsed": true
   },
   "outputs": [],
   "source": [
    "import numpy as np\n",
    "import random\n",
    "import gym\n",
    "from gym import wrappers\n",
    "import matplotlib.pyplot as plt\n",
    "import tensorflow as tf"
   ]
  },
  {
   "cell_type": "code",
   "execution_count": 24,
   "metadata": {},
   "outputs": [
    {
     "name": "stderr",
     "output_type": "stream",
     "text": [
      "[2017-08-25 17:53:31,977] Making new env: FrozenLake-v0\n",
      "[2017-08-25 17:53:31,981] Clearing 2 monitor files from previous run (because force=True was provided)\n"
     ]
    }
   ],
   "source": [
    "env = gym.make('FrozenLake-v0')\n",
    "env = wrappers.Monitor(env, 'FrozenLake-record',force=True)"
   ]
  },
  {
   "cell_type": "markdown",
   "metadata": {},
   "source": [
    "## Config"
   ]
  },
  {
   "cell_type": "code",
   "execution_count": 25,
   "metadata": {
    "collapsed": true
   },
   "outputs": [],
   "source": [
    "# Env variables\n",
    "nb_states = 16\n",
    "nb_actions = 4\n",
    "\n",
    "# Training tuning\n",
    "e = 1.0\n",
    "e_decay = 0.999\n",
    "y = .95\n",
    "lr = .8\n",
    "\n",
    "# Training loop\n",
    "nb_max_episodes = 10000\n",
    "episode_count = 0\n",
    "total_steps = 0\n",
    "test_freq = 50\n",
    "log_freq = 500"
   ]
  },
  {
   "cell_type": "markdown",
   "metadata": {},
   "source": [
    "## Training"
   ]
  },
  {
   "cell_type": "markdown",
   "metadata": {},
   "source": [
    "### Init Q-Table"
   ]
  },
  {
   "cell_type": "code",
   "execution_count": 26,
   "metadata": {},
   "outputs": [],
   "source": [
    "x = tf.placeholder(shape=[1,16],dtype=tf.float32)\n",
    "W = tf.Variable(tf.random_uniform([16,4],0,0.01))\n",
    "Qout = tf.matmul(x,W)\n",
    "\n",
    "nextQ = tf.placeholder(shape=[1,4],dtype=tf.float32)\n",
    "loss = tf.reduce_sum(tf.square(nextQ - Qout))\n",
    "trainer = tf.train.GradientDescentOptimizer(learning_rate=0.1)\n",
    "update_model = trainer.minimize(loss)"
   ]
  },
  {
   "cell_type": "markdown",
   "metadata": {},
   "source": [
    "### Test accurracy"
   ]
  },
  {
   "cell_type": "code",
   "execution_count": 27,
   "metadata": {
    "collapsed": true
   },
   "outputs": [],
   "source": [
    "def test_accurracy():\n",
    "    test_batch_size = 200\n",
    "    c = 0\n",
    "    nb_success = 0.0\n",
    "    while c < test_batch_size:\n",
    "        is_gameover = False\n",
    "        state = env.reset()\n",
    "        while not is_gameover:\n",
    "            Q1 = sess.run(Qout, feed_dict={x: np.identity(16)[state:state+1]})[0]\n",
    "            action = np.argmax(Q1)\n",
    "            next_state, reward, is_gameover, _ = env.step(action)\n",
    "            state = next_state\n",
    "        if reward == 1:\n",
    "            nb_success += 1\n",
    "        c += 1\n",
    "    return nb_success / c"
   ]
  },
  {
   "cell_type": "markdown",
   "metadata": {},
   "source": [
    "### Training Loop"
   ]
  },
  {
   "cell_type": "code",
   "execution_count": 28,
   "metadata": {
    "scrolled": true
   },
   "outputs": [
    {
     "name": "stderr",
     "output_type": "stream",
     "text": [
      "[2017-08-25 17:53:50,761] Starting new video recorder writing to D:\\workspace\\rl-dojo\\gym_frozenlake\\qlearning_nn\\FrozenLake-record\\openaigym.video.0.9092.video000000.json\n",
      "[2017-08-25 17:53:50,788] Starting new video recorder writing to D:\\workspace\\rl-dojo\\gym_frozenlake\\qlearning_nn\\FrozenLake-record\\openaigym.video.0.9092.video000001.json\n",
      "[2017-08-25 17:53:50,858] Starting new video recorder writing to D:\\workspace\\rl-dojo\\gym_frozenlake\\qlearning_nn\\FrozenLake-record\\openaigym.video.0.9092.video000008.json\n",
      "[2017-08-25 17:53:50,989] Starting new video recorder writing to D:\\workspace\\rl-dojo\\gym_frozenlake\\qlearning_nn\\FrozenLake-record\\openaigym.video.0.9092.video000027.json\n",
      "[2017-08-25 17:53:51,185] Starting new video recorder writing to D:\\workspace\\rl-dojo\\gym_frozenlake\\qlearning_nn\\FrozenLake-record\\openaigym.video.0.9092.video000064.json\n",
      "[2017-08-25 17:53:51,317] Starting new video recorder writing to D:\\workspace\\rl-dojo\\gym_frozenlake\\qlearning_nn\\FrozenLake-record\\openaigym.video.0.9092.video000125.json\n",
      "[2017-08-25 17:53:51,507] Starting new video recorder writing to D:\\workspace\\rl-dojo\\gym_frozenlake\\qlearning_nn\\FrozenLake-record\\openaigym.video.0.9092.video000216.json\n",
      "[2017-08-25 17:53:51,955] Starting new video recorder writing to D:\\workspace\\rl-dojo\\gym_frozenlake\\qlearning_nn\\FrozenLake-record\\openaigym.video.0.9092.video000343.json\n",
      "[2017-08-25 17:53:52,344] Starting new video recorder writing to D:\\workspace\\rl-dojo\\gym_frozenlake\\qlearning_nn\\FrozenLake-record\\openaigym.video.0.9092.video000512.json\n",
      "[2017-08-25 17:53:52,859] Starting new video recorder writing to D:\\workspace\\rl-dojo\\gym_frozenlake\\qlearning_nn\\FrozenLake-record\\openaigym.video.0.9092.video000729.json\n",
      "[2017-08-25 17:53:53,526] Starting new video recorder writing to D:\\workspace\\rl-dojo\\gym_frozenlake\\qlearning_nn\\FrozenLake-record\\openaigym.video.0.9092.video001000.json\n",
      "[2017-08-25 17:53:56,297] Starting new video recorder writing to D:\\workspace\\rl-dojo\\gym_frozenlake\\qlearning_nn\\FrozenLake-record\\openaigym.video.0.9092.video002000.json\n"
     ]
    },
    {
     "name": "stdout",
     "output_type": "stream",
     "text": [
      "step: 3755, episode: 500, accurracy: 0.055. random move probability: 0.6057725659163237\n"
     ]
    },
    {
     "name": "stderr",
     "output_type": "stream",
     "text": [
      "[2017-08-25 17:54:00,997] Starting new video recorder writing to D:\\workspace\\rl-dojo\\gym_frozenlake\\qlearning_nn\\FrozenLake-record\\openaigym.video.0.9092.video003000.json\n",
      "[2017-08-25 17:54:08,538] Starting new video recorder writing to D:\\workspace\\rl-dojo\\gym_frozenlake\\qlearning_nn\\FrozenLake-record\\openaigym.video.0.9092.video004000.json\n",
      "[2017-08-25 17:54:18,014] Starting new video recorder writing to D:\\workspace\\rl-dojo\\gym_frozenlake\\qlearning_nn\\FrozenLake-record\\openaigym.video.0.9092.video005000.json\n"
     ]
    },
    {
     "name": "stdout",
     "output_type": "stream",
     "text": [
      "step: 10006, episode: 1000, accurracy: 0.145. random move probability: 0.36732772934619257\n"
     ]
    },
    {
     "name": "stderr",
     "output_type": "stream",
     "text": [
      "[2017-08-25 17:54:27,880] Starting new video recorder writing to D:\\workspace\\rl-dojo\\gym_frozenlake\\qlearning_nn\\FrozenLake-record\\openaigym.video.0.9092.video006000.json\n",
      "[2017-08-25 17:54:39,112] Starting new video recorder writing to D:\\workspace\\rl-dojo\\gym_frozenlake\\qlearning_nn\\FrozenLake-record\\openaigym.video.0.9092.video007000.json\n"
     ]
    },
    {
     "name": "stdout",
     "output_type": "stream",
     "text": [
      "step: 18935, episode: 1500, accurracy: 0.415. random move probability: 0.22273980093919937\n"
     ]
    },
    {
     "name": "stderr",
     "output_type": "stream",
     "text": [
      "[2017-08-25 17:54:48,961] Starting new video recorder writing to D:\\workspace\\rl-dojo\\gym_frozenlake\\qlearning_nn\\FrozenLake-record\\openaigym.video.0.9092.video008000.json\n",
      "[2017-08-25 17:55:00,546] Starting new video recorder writing to D:\\workspace\\rl-dojo\\gym_frozenlake\\qlearning_nn\\FrozenLake-record\\openaigym.video.0.9092.video009000.json\n",
      "[2017-08-25 17:55:11,860] Starting new video recorder writing to D:\\workspace\\rl-dojo\\gym_frozenlake\\qlearning_nn\\FrozenLake-record\\openaigym.video.0.9092.video010000.json\n"
     ]
    },
    {
     "name": "stdout",
     "output_type": "stream",
     "text": [
      "step: 29052, episode: 2000, accurracy: 0.635. random move probability: 0.13506472547210188\n"
     ]
    },
    {
     "name": "stderr",
     "output_type": "stream",
     "text": [
      "[2017-08-25 17:55:20,472] Starting new video recorder writing to D:\\workspace\\rl-dojo\\gym_frozenlake\\qlearning_nn\\FrozenLake-record\\openaigym.video.0.9092.video011000.json\n",
      "[2017-08-25 17:55:32,741] Starting new video recorder writing to D:\\workspace\\rl-dojo\\gym_frozenlake\\qlearning_nn\\FrozenLake-record\\openaigym.video.0.9092.video012000.json\n"
     ]
    },
    {
     "name": "stdout",
     "output_type": "stream",
     "text": [
      "step: 40847, episode: 2500, accurracy: 0.69. random move probability: 0.08190040571973876\n"
     ]
    },
    {
     "name": "stderr",
     "output_type": "stream",
     "text": [
      "[2017-08-25 17:55:43,420] Starting new video recorder writing to D:\\workspace\\rl-dojo\\gym_frozenlake\\qlearning_nn\\FrozenLake-record\\openaigym.video.0.9092.video013000.json\n",
      "[2017-08-25 17:55:54,568] Starting new video recorder writing to D:\\workspace\\rl-dojo\\gym_frozenlake\\qlearning_nn\\FrozenLake-record\\openaigym.video.0.9092.video014000.json\n",
      "[2017-08-25 17:56:06,536] Starting new video recorder writing to D:\\workspace\\rl-dojo\\gym_frozenlake\\qlearning_nn\\FrozenLake-record\\openaigym.video.0.9092.video015000.json\n"
     ]
    },
    {
     "name": "stdout",
     "output_type": "stream",
     "text": [
      "step: 54492, episode: 3000, accurracy: 0.355. random move probability: 0.049662681604038215\n"
     ]
    },
    {
     "name": "stderr",
     "output_type": "stream",
     "text": [
      "[2017-08-25 17:56:18,802] Starting new video recorder writing to D:\\workspace\\rl-dojo\\gym_frozenlake\\qlearning_nn\\FrozenLake-record\\openaigym.video.0.9092.video016000.json\n",
      "[2017-08-25 17:56:31,824] Starting new video recorder writing to D:\\workspace\\rl-dojo\\gym_frozenlake\\qlearning_nn\\FrozenLake-record\\openaigym.video.0.9092.video017000.json\n"
     ]
    },
    {
     "name": "stdout",
     "output_type": "stream",
     "text": [
      "step: 70389, episode: 3500, accurracy: 0.765. random move probability: 0.030114404470033673\n"
     ]
    },
    {
     "name": "stderr",
     "output_type": "stream",
     "text": [
      "[2017-08-25 17:56:45,060] Starting new video recorder writing to D:\\workspace\\rl-dojo\\gym_frozenlake\\qlearning_nn\\FrozenLake-record\\openaigym.video.0.9092.video018000.json\n",
      "[2017-08-25 17:56:58,332] Starting new video recorder writing to D:\\workspace\\rl-dojo\\gym_frozenlake\\qlearning_nn\\FrozenLake-record\\openaigym.video.0.9092.video019000.json\n",
      "[2017-08-25 17:57:09,601] Starting new video recorder writing to D:\\workspace\\rl-dojo\\gym_frozenlake\\qlearning_nn\\FrozenLake-record\\openaigym.video.0.9092.video020000.json\n"
     ]
    },
    {
     "name": "stdout",
     "output_type": "stream",
     "text": [
      "step: 86323, episode: 4000, accurracy: 0.44. random move probability: 0.018260740807661956\n"
     ]
    },
    {
     "name": "stderr",
     "output_type": "stream",
     "text": [
      "[2017-08-25 17:57:23,440] Starting new video recorder writing to D:\\workspace\\rl-dojo\\gym_frozenlake\\qlearning_nn\\FrozenLake-record\\openaigym.video.0.9092.video021000.json\n",
      "[2017-08-25 17:57:36,688] Starting new video recorder writing to D:\\workspace\\rl-dojo\\gym_frozenlake\\qlearning_nn\\FrozenLake-record\\openaigym.video.0.9092.video022000.json\n"
     ]
    },
    {
     "name": "stdout",
     "output_type": "stream",
     "text": [
      "step: 103431, episode: 4500, accurracy: 0.755. random move probability: 0.011072928743333644\n"
     ]
    },
    {
     "name": "stderr",
     "output_type": "stream",
     "text": [
      "[2017-08-25 17:57:49,407] Starting new video recorder writing to D:\\workspace\\rl-dojo\\gym_frozenlake\\qlearning_nn\\FrozenLake-record\\openaigym.video.0.9092.video023000.json\n",
      "[2017-08-25 17:58:01,743] Starting new video recorder writing to D:\\workspace\\rl-dojo\\gym_frozenlake\\qlearning_nn\\FrozenLake-record\\openaigym.video.0.9092.video024000.json\n",
      "[2017-08-25 17:58:15,373] Starting new video recorder writing to D:\\workspace\\rl-dojo\\gym_frozenlake\\qlearning_nn\\FrozenLake-record\\openaigym.video.0.9092.video025000.json\n"
     ]
    },
    {
     "name": "stdout",
     "output_type": "stream",
     "text": [
      "step: 120360, episode: 5000, accurracy: 0.705. random move probability: 0.006714390847905742\n"
     ]
    },
    {
     "name": "stderr",
     "output_type": "stream",
     "text": [
      "[2017-08-25 17:58:29,701] Starting new video recorder writing to D:\\workspace\\rl-dojo\\gym_frozenlake\\qlearning_nn\\FrozenLake-record\\openaigym.video.0.9092.video026000.json\n",
      "[2017-08-25 17:58:44,006] Starting new video recorder writing to D:\\workspace\\rl-dojo\\gym_frozenlake\\qlearning_nn\\FrozenLake-record\\openaigym.video.0.9092.video027000.json\n"
     ]
    },
    {
     "name": "stdout",
     "output_type": "stream",
     "text": [
      "step: 139689, episode: 5500, accurracy: 0.72. random move probability: 0.004071465237738676\n"
     ]
    },
    {
     "name": "stderr",
     "output_type": "stream",
     "text": [
      "[2017-08-25 17:58:58,332] Starting new video recorder writing to D:\\workspace\\rl-dojo\\gym_frozenlake\\qlearning_nn\\FrozenLake-record\\openaigym.video.0.9092.video028000.json\n",
      "[2017-08-25 17:59:10,101] Starting new video recorder writing to D:\\workspace\\rl-dojo\\gym_frozenlake\\qlearning_nn\\FrozenLake-record\\openaigym.video.0.9092.video029000.json\n",
      "[2017-08-25 17:59:24,228] Starting new video recorder writing to D:\\workspace\\rl-dojo\\gym_frozenlake\\qlearning_nn\\FrozenLake-record\\openaigym.video.0.9092.video030000.json\n"
     ]
    },
    {
     "name": "stdout",
     "output_type": "stream",
     "text": [
      "step: 158779, episode: 6000, accurracy: 0.76. random move probability: 0.0024688507948989738\n"
     ]
    },
    {
     "name": "stderr",
     "output_type": "stream",
     "text": [
      "[2017-08-25 17:59:39,753] Starting new video recorder writing to D:\\workspace\\rl-dojo\\gym_frozenlake\\qlearning_nn\\FrozenLake-record\\openaigym.video.0.9092.video031000.json\n",
      "[2017-08-25 17:59:54,842] Starting new video recorder writing to D:\\workspace\\rl-dojo\\gym_frozenlake\\qlearning_nn\\FrozenLake-record\\openaigym.video.0.9092.video032000.json\n"
     ]
    },
    {
     "name": "stdout",
     "output_type": "stream",
     "text": [
      "step: 179596, episode: 6500, accurracy: 0.73. random move probability: 0.0014970591400305351\n"
     ]
    },
    {
     "name": "stderr",
     "output_type": "stream",
     "text": [
      "[2017-08-25 18:00:09,363] Starting new video recorder writing to D:\\workspace\\rl-dojo\\gym_frozenlake\\qlearning_nn\\FrozenLake-record\\openaigym.video.0.9092.video033000.json\n",
      "[2017-08-25 18:00:23,369] Starting new video recorder writing to D:\\workspace\\rl-dojo\\gym_frozenlake\\qlearning_nn\\FrozenLake-record\\openaigym.video.0.9092.video034000.json\n",
      "[2017-08-25 18:00:37,974] Starting new video recorder writing to D:\\workspace\\rl-dojo\\gym_frozenlake\\qlearning_nn\\FrozenLake-record\\openaigym.video.0.9092.video035000.json\n"
     ]
    },
    {
     "name": "stdout",
     "output_type": "stream",
     "text": [
      "step: 199705, episode: 7000, accurracy: 0.74. random move probability: 0.0009077851417265054\n"
     ]
    },
    {
     "name": "stderr",
     "output_type": "stream",
     "text": [
      "[2017-08-25 18:00:52,166] Starting new video recorder writing to D:\\workspace\\rl-dojo\\gym_frozenlake\\qlearning_nn\\FrozenLake-record\\openaigym.video.0.9092.video036000.json\n",
      "[2017-08-25 18:01:06,694] Starting new video recorder writing to D:\\workspace\\rl-dojo\\gym_frozenlake\\qlearning_nn\\FrozenLake-record\\openaigym.video.0.9092.video037000.json\n"
     ]
    },
    {
     "name": "stdout",
     "output_type": "stream",
     "text": [
      "step: 220586, episode: 7500, accurracy: 0.6. random move probability: 0.0005504617964007802\n"
     ]
    },
    {
     "name": "stderr",
     "output_type": "stream",
     "text": [
      "[2017-08-25 18:01:19,590] Starting new video recorder writing to D:\\workspace\\rl-dojo\\gym_frozenlake\\qlearning_nn\\FrozenLake-record\\openaigym.video.0.9092.video038000.json\n",
      "[2017-08-25 18:01:33,392] Starting new video recorder writing to D:\\workspace\\rl-dojo\\gym_frozenlake\\qlearning_nn\\FrozenLake-record\\openaigym.video.0.9092.video039000.json\n",
      "[2017-08-25 18:01:47,615] Starting new video recorder writing to D:\\workspace\\rl-dojo\\gym_frozenlake\\qlearning_nn\\FrozenLake-record\\openaigym.video.0.9092.video040000.json\n"
     ]
    },
    {
     "name": "stdout",
     "output_type": "stream",
     "text": [
      "step: 239809, episode: 8000, accurracy: 0.715. random move probability: 0.0003337884432878974\n"
     ]
    },
    {
     "name": "stderr",
     "output_type": "stream",
     "text": [
      "[2017-08-25 18:02:02,013] Starting new video recorder writing to D:\\workspace\\rl-dojo\\gym_frozenlake\\qlearning_nn\\FrozenLake-record\\openaigym.video.0.9092.video041000.json\n",
      "[2017-08-25 18:02:16,489] Starting new video recorder writing to D:\\workspace\\rl-dojo\\gym_frozenlake\\qlearning_nn\\FrozenLake-record\\openaigym.video.0.9092.video042000.json\n"
     ]
    },
    {
     "name": "stdout",
     "output_type": "stream",
     "text": [
      "step: 259970, episode: 8500, accurracy: 0.71. random move probability: 0.00020240228404777254\n"
     ]
    },
    {
     "name": "stderr",
     "output_type": "stream",
     "text": [
      "[2017-08-25 18:02:31,104] Starting new video recorder writing to D:\\workspace\\rl-dojo\\gym_frozenlake\\qlearning_nn\\FrozenLake-record\\openaigym.video.0.9092.video043000.json\n",
      "[2017-08-25 18:02:45,192] Starting new video recorder writing to D:\\workspace\\rl-dojo\\gym_frozenlake\\qlearning_nn\\FrozenLake-record\\openaigym.video.0.9092.video044000.json\n",
      "[2017-08-25 18:02:56,550] Starting new video recorder writing to D:\\workspace\\rl-dojo\\gym_frozenlake\\qlearning_nn\\FrozenLake-record\\openaigym.video.0.9092.video045000.json\n"
     ]
    },
    {
     "name": "stdout",
     "output_type": "stream",
     "text": [
      "step: 278759, episode: 9000, accurracy: 0.47. random move probability: 0.00012273248343838214\n"
     ]
    },
    {
     "name": "stderr",
     "output_type": "stream",
     "text": [
      "[2017-08-25 18:03:07,722] Starting new video recorder writing to D:\\workspace\\rl-dojo\\gym_frozenlake\\qlearning_nn\\FrozenLake-record\\openaigym.video.0.9092.video046000.json\n",
      "[2017-08-25 18:03:18,821] Starting new video recorder writing to D:\\workspace\\rl-dojo\\gym_frozenlake\\qlearning_nn\\FrozenLake-record\\openaigym.video.0.9092.video047000.json\n"
     ]
    },
    {
     "name": "stdout",
     "output_type": "stream",
     "text": [
      "step: 294892, episode: 9500, accurracy: 0.68. random move probability: 7.44223938075589e-05\n"
     ]
    },
    {
     "name": "stderr",
     "output_type": "stream",
     "text": [
      "[2017-08-25 18:03:32,153] Starting new video recorder writing to D:\\workspace\\rl-dojo\\gym_frozenlake\\qlearning_nn\\FrozenLake-record\\openaigym.video.0.9092.video048000.json\n",
      "[2017-08-25 18:03:46,893] Starting new video recorder writing to D:\\workspace\\rl-dojo\\gym_frozenlake\\qlearning_nn\\FrozenLake-record\\openaigym.video.0.9092.video049000.json\n",
      "[2017-08-25 18:03:59,672] Finished writing results. You can upload them to the scoreboard via gym.upload('D:\\\\workspace\\\\rl-dojo\\\\gym_frozenlake\\\\qlearning_nn\\\\FrozenLake-record')\n"
     ]
    }
   ],
   "source": [
    "accurracies = []\n",
    "rewards = []\n",
    "\n",
    "init = tf.global_variables_initializer()\n",
    "\n",
    "with tf.Session() as sess:\n",
    "    sess.run(init)\n",
    "    \n",
    "    while episode_count < nb_max_episodes:\n",
    "        state = env.reset()\n",
    "        is_gameover = False\n",
    "        reward_tot = 0\n",
    "        episode_step = 0\n",
    "        \n",
    "        while not is_gameover:\n",
    "            episode_step += 1\n",
    "\n",
    "            # Eval current state\n",
    "            Q1 = sess.run(Qout, feed_dict={x: np.identity(16)[state:state+1]})[0]\n",
    "            \n",
    "            if random.random() < e:\n",
    "                action = random.randint(0, nb_actions-1)\n",
    "            else:\n",
    "                action = np.argmax(Q1)\n",
    "\n",
    "            # Play best move with chance of random\n",
    "            next_state, reward, is_gameover, _ = env.step(action)\n",
    "\n",
    "            # Eval next state\n",
    "            Q2 = sess.run(Qout, feed_dict={x: np.identity(16)[next_state:next_state+1]})[0]\n",
    "            \n",
    "            # Update first state evaluation\n",
    "            Q1[action] += lr * (reward + y*np.max(Q2) - Q1[action])\n",
    "            sess.run(update_model,feed_dict={x: np.identity(16)[state:state+1], nextQ:[Q1]})\n",
    "\n",
    "            reward_tot += reward\n",
    "            total_steps += 1\n",
    "            state = next_state\n",
    "\n",
    "            if is_gameover:\n",
    "                break\n",
    "\n",
    "        e *= e_decay\n",
    "\n",
    "        if episode_count % test_freq == 0 and episode_count != 0:\n",
    "            accurr = test_accurracy()\n",
    "            accurracies.append(accurr)\n",
    "\n",
    "            if episode_count % log_freq == 0:\n",
    "                print('step: %s, episode: %s, accurracy: %s. random move probability: %s' % (total_steps, episode_count, accurr, e))\n",
    "\n",
    "        episode_count += 1\n",
    "        rewards.append(reward_tot)\n",
    "    env.close()"
   ]
  },
  {
   "cell_type": "markdown",
   "metadata": {},
   "source": [
    "### Metrics"
   ]
  },
  {
   "cell_type": "code",
   "execution_count": 29,
   "metadata": {},
   "outputs": [
    {
     "data": {
      "image/png": "[encoded data removed]",
      "text/plain": [
       "<matplotlib.figure.Figure at 0x1894e539358>"
      ]
     },
     "metadata": {},
     "output_type": "display_data"
    }
   ],
   "source": [
    "import matplotlib.pyplot as plt\n",
    "plt.plot(accurracies)\n",
    "plt.xlabel('steps')\n",
    "plt.ylabel('accuracy')\n",
    "plt.show()"
   ]
  },
  {
   "cell_type": "markdown",
   "metadata": {},
   "source": [
    "### Upload results on Gym OpenAI"
   ]
  },
  {
   "cell_type": "code",
   "execution_count": 32,
   "metadata": {},
   "outputs": [
    {
     "name": "stderr",
     "output_type": "stream",
     "text": [
      "[2017-08-25 18:05:32,374] [FrozenLake-v0] Uploading 49800 episodes of training data\n",
      "[2017-08-25 18:05:36,716] [FrozenLake-v0] Uploading videos of 59 training episodes (5109 bytes)\n",
      "[2017-08-25 18:05:37,218] [FrozenLake-v0] Creating evaluation object from FrozenLake-record with learning curve and training video\n",
      "[2017-08-25 18:05:37,597] \n",
      "****************************************************\n",
      "You successfully uploaded your evaluation on FrozenLake-v0 to\n",
      "OpenAI Gym! You can find it at:\n",
      "\n",
      "    https://gym.openai.com/evaluations/eval_UaLF7xtQSNyODLUblAhfVg\n",
      "\n",
      "****************************************************\n"
     ]
    }
   ],
   "source": [
    "gym.upload('FrozenLake-record', api_key='your_key')"
   ]
  }
 ],
 "metadata": {
  "kernelspec": {
   "display_name": "Python 3",
   "language": "python",
   "name": "python3"
  },
  "language_info": {
   "codemirror_mode": {
    "name": "ipython",
    "version": 3
   },
   "file_extension": ".py",
   "mimetype": "text/x-python",
   "name": "python",
   "nbconvert_exporter": "python",
   "pygments_lexer": "ipython3",
   "version": "3.5.3"
  }
 },
 "nbformat": 4,
 "nbformat_minor": 2
}
