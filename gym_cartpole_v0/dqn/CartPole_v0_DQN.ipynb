{
 "cells": [
  {
   "cell_type": "markdown",
   "metadata": {},
   "source": [
    "# CartPole v0 Deep Q-Network\n",
    "\n",
    "CartPole v0 problem resolution using DQN (Q-Learning using Neural Network and experience replay) with Tensorflow.\n",
    "See [online example](https://gym.openai.com/evaluations/eval_CABwYtsAQ6C9F19XwGz2w) at Gym OpenAI."
   ]
  },
  {
   "cell_type": "code",
   "execution_count": 1,
   "metadata": {
    "collapsed": true
   },
   "outputs": [],
   "source": [
    "import numpy as np\n",
    "import random\n",
    "import gym\n",
    "from gym import wrappers\n",
    "import matplotlib.pyplot as plt\n",
    "import tensorflow as tf"
   ]
  },
  {
   "cell_type": "code",
   "execution_count": 2,
   "metadata": {},
   "outputs": [
    {
     "name": "stderr",
     "output_type": "stream",
     "text": [
      "[2017-08-26 17:31:51,543] Making new env: CartPole-v0\n",
      "[2017-08-26 17:31:51,562] Clearing 24 monitor files from previous run (because force=True was provided)\n"
     ]
    }
   ],
   "source": [
    "env = gym.make('CartPole-v0')\n",
    "env = wrappers.Monitor(env, 'CartPole-record',force=True)"
   ]
  },
  {
   "cell_type": "markdown",
   "metadata": {},
   "source": [
    "## Config"
   ]
  },
  {
   "cell_type": "code",
   "execution_count": 12,
   "metadata": {
    "collapsed": true
   },
   "outputs": [],
   "source": [
    "# Env variables\n",
    "nb_actions = 2\n",
    "\n",
    "# Training tuning\n",
    "train_batch_size = 10\n",
    "e = 0.5\n",
    "e_decay = 0.99\n",
    "y = .9\n",
    "lr = 1.0\n",
    "\n",
    "# Training loop\n",
    "nb_max_episodes = 3000\n",
    "episode_count = 0\n",
    "total_steps = 0\n",
    "update_freq = 100\n",
    "test_freq = 100\n",
    "log_freq = 100"
   ]
  },
  {
   "cell_type": "markdown",
   "metadata": {},
   "source": [
    "## Training"
   ]
  },
  {
   "cell_type": "markdown",
   "metadata": {},
   "source": [
    "### Model"
   ]
  },
  {
   "cell_type": "code",
   "execution_count": 4,
   "metadata": {
    "collapsed": true
   },
   "outputs": [],
   "source": [
    "n_input = 4\n",
    "n_hidden_1 = 128\n",
    "n_hidden_2 = 128\n",
    "\n",
    "tf.reset_default_graph()\n",
    "\n",
    "weights = {\n",
    "    'h1': tf.Variable(tf.random_normal([n_input, n_hidden_1])),\n",
    "    'h2': tf.Variable(tf.random_normal([n_hidden_1, n_hidden_2])),\n",
    "    'out': tf.Variable(tf.random_normal([n_hidden_1, nb_actions]))\n",
    "}\n",
    "biases = {\n",
    "    'b1': tf.Variable(tf.random_normal([n_hidden_1])),\n",
    "    'b2': tf.Variable(tf.random_normal([n_hidden_2])),\n",
    "    'out': tf.Variable(tf.random_normal([nb_actions]))\n",
    "}\n",
    "\n",
    "x = tf.placeholder(shape=[None,4],dtype=tf.float32)\n",
    "layer_1 = tf.nn.tanh(tf.add(tf.matmul(x, weights['h1']), biases['b1']))\n",
    "layer_2 = tf.nn.tanh(tf.add(tf.matmul(layer_1, weights['h2']), biases['b2']))\n",
    "Qout = tf.add(tf.matmul(layer_2, weights['out']), biases['out'])\n",
    "\n",
    "nextQ = tf.placeholder(shape=[None,nb_actions],dtype=tf.float32)\n",
    "loss = tf.reduce_sum(tf.square(nextQ - Qout))\n",
    "trainer = tf.train.AdamOptimizer(learning_rate=0.0001)\n",
    "update_model = trainer.minimize(loss)"
   ]
  },
  {
   "cell_type": "markdown",
   "metadata": {},
   "source": [
    "### Experience Replay"
   ]
  },
  {
   "cell_type": "code",
   "execution_count": 6,
   "metadata": {
    "collapsed": true
   },
   "outputs": [],
   "source": [
    "class ExperienceBuffer():\n",
    "    def __init__(self, buffer_size = 10000):\n",
    "        self.buffer = []\n",
    "        self.buffer_size = buffer_size\n",
    "    \n",
    "    def add(self,experience):\n",
    "        if len(self.buffer) + len(experience) >= self.buffer_size:\n",
    "            self.buffer = self.buffer[:1]\n",
    "        self.buffer.append(experience)\n",
    "            \n",
    "    def sample(self,size):\n",
    "        return random.sample(self.buffer, size)"
   ]
  },
  {
   "cell_type": "markdown",
   "metadata": {},
   "source": [
    "### Test accurracy"
   ]
  },
  {
   "cell_type": "code",
   "execution_count": 7,
   "metadata": {
    "collapsed": true
   },
   "outputs": [],
   "source": [
    "def test_accurracy():\n",
    "    test_batch_size = 100\n",
    "    c = 0\n",
    "    nb_success = 0.0\n",
    "    max_time, min_time = 0.0, float('inf')\n",
    "    while c < test_batch_size:\n",
    "        j = 0\n",
    "        is_gameover = False\n",
    "        state = env.reset()\n",
    "        while not is_gameover:\n",
    "            j += 1\n",
    "            Q1 = sess.run(Qout, feed_dict={x: [state]})[0]\n",
    "            action = np.argmax(Q1)\n",
    "            next_state, reward, is_gameover, _ = env.step(action)\n",
    "#             env.render()\n",
    "            state = next_state\n",
    "        nb_success += j\n",
    "        max_time = max(j, max_time)\n",
    "        min_time = min(j, min_time)\n",
    "        c += 1\n",
    "    return nb_success / c, min_time, max_time"
   ]
  },
  {
   "cell_type": "markdown",
   "metadata": {},
   "source": [
    "### Training Loop"
   ]
  },
  {
   "cell_type": "code",
   "execution_count": 8,
   "metadata": {
    "scrolled": true
   },
   "outputs": [
    {
     "name": "stderr",
     "output_type": "stream",
     "text": [
      "[2017-08-26 17:32:01,306] Starting new video recorder writing to D:\\workspace\\rl-dojo\\gym_cartpole_v0\\qlearning_nn\\CartPole-record\\openaigym.video.0.41032.video000000.mp4\n",
      "[2017-08-26 17:32:02,263] Starting new video recorder writing to D:\\workspace\\rl-dojo\\gym_cartpole_v0\\qlearning_nn\\CartPole-record\\openaigym.video.0.41032.video000001.mp4\n",
      "[2017-08-26 17:32:03,709] Starting new video recorder writing to D:\\workspace\\rl-dojo\\gym_cartpole_v0\\qlearning_nn\\CartPole-record\\openaigym.video.0.41032.video000008.mp4\n",
      "[2017-08-26 17:32:06,172] Starting new video recorder writing to D:\\workspace\\rl-dojo\\gym_cartpole_v0\\qlearning_nn\\CartPole-record\\openaigym.video.0.41032.video000027.mp4\n",
      "[2017-08-26 17:32:09,057] Starting new video recorder writing to D:\\workspace\\rl-dojo\\gym_cartpole_v0\\qlearning_nn\\CartPole-record\\openaigym.video.0.41032.video000064.mp4\n",
      "[2017-08-26 17:32:11,735] Starting new video recorder writing to D:\\workspace\\rl-dojo\\gym_cartpole_v0\\qlearning_nn\\CartPole-record\\openaigym.video.0.41032.video000125.mp4\n"
     ]
    },
    {
     "name": "stdout",
     "output_type": "stream",
     "text": [
      "step: 5196, episode: 100, mean time: 53.69. min: 22. max: 81. random move probability: 2.88593455884936e-23\n"
     ]
    },
    {
     "name": "stderr",
     "output_type": "stream",
     "text": [
      "[2017-08-26 17:32:14,651] Starting new video recorder writing to D:\\workspace\\rl-dojo\\gym_cartpole_v0\\qlearning_nn\\CartPole-record\\openaigym.video.0.41032.video000216.mp4\n",
      "[2017-08-26 17:32:26,861] Starting new video recorder writing to D:\\workspace\\rl-dojo\\gym_cartpole_v0\\qlearning_nn\\CartPole-record\\openaigym.video.0.41032.video000343.mp4\n"
     ]
    },
    {
     "name": "stdout",
     "output_type": "stream",
     "text": [
      "step: 16413, episode: 200, mean time: 188.67. min: 125. max: 200. random move probability: 8.644598353212519e-72\n"
     ]
    },
    {
     "name": "stderr",
     "output_type": "stream",
     "text": [
      "[2017-08-26 17:32:49,647] Starting new video recorder writing to D:\\workspace\\rl-dojo\\gym_cartpole_v0\\qlearning_nn\\CartPole-record\\openaigym.video.0.41032.video000512.mp4\n"
     ]
    },
    {
     "name": "stdout",
     "output_type": "stream",
     "text": [
      "step: 34317, episode: 300, mean time: 184.7. min: 124. max: 200. random move probability: 1.6817035253530329e-149\n"
     ]
    },
    {
     "name": "stderr",
     "output_type": "stream",
     "text": [
      "[2017-08-26 17:33:13,544] Starting new video recorder writing to D:\\workspace\\rl-dojo\\gym_cartpole_v0\\qlearning_nn\\CartPole-record\\openaigym.video.0.41032.video000729.mp4\n",
      "[2017-08-26 17:33:20,589] Finished writing results. You can upload them to the scoreboard via gym.upload('D:\\\\workspace\\\\rl-dojo\\\\gym_cartpole_v0\\\\qlearning_nn\\\\CartPole-record')\n"
     ]
    },
    {
     "name": "stdout",
     "output_type": "stream",
     "text": [
      "step: 50321, episode: 400, mean time: 196.44. min: 130. max: 200. random move probability: 6.425165430218056e-219\n"
     ]
    }
   ],
   "source": [
    "mean_times = []\n",
    "rewards = []\n",
    "minus_hist = []\n",
    "plus_hist = []\n",
    "\n",
    "init = tf.global_variables_initializer()\n",
    "\n",
    "replay_buffer = ExperienceBuffer()\n",
    "\n",
    "finished = False\n",
    "\n",
    "with tf.Session() as sess:\n",
    "    sess.run(init)\n",
    "    \n",
    "    while not finished:\n",
    "        state = env.reset()\n",
    "        is_gameover = False\n",
    "        reward_tot = 0\n",
    "        episode_step = 0\n",
    "        \n",
    "        while not is_gameover:\n",
    "            episode_step += 1\n",
    "\n",
    "            # Eval current state\n",
    "            Q1 = sess.run(Qout, feed_dict={x: [state]})[0]\n",
    "            \n",
    "            action_minus, action_plus = Q1\n",
    "            minus_hist.append(action_minus)\n",
    "            plus_hist.append(action_plus)\n",
    "            \n",
    "            if random.random() < e:\n",
    "                action = random.randint(0, nb_actions-1)\n",
    "            else:\n",
    "                action = np.argmax(Q1)\n",
    "                \n",
    "            # Play best move with chance of random\n",
    "            next_state, reward, is_gameover, _ = env.step(action)\n",
    "            \n",
    "            if is_gameover:\n",
    "                reward = -100\n",
    "                \n",
    "            # Eval next state\n",
    "            Q2 = sess.run(Qout, feed_dict={x: [next_state]})[0]\n",
    "            \n",
    "            # Update first state evaluation\n",
    "            Q1[action] += lr * (reward + y*np.max(Q2) - Q1[action])\n",
    "            sess.run(update_model,feed_dict={x: [state], nextQ:[Q1]})\n",
    "\n",
    "            # Register experience\n",
    "            replay_buffer.add((state,Q1))\n",
    "\n",
    "            reward_tot += reward\n",
    "            total_steps += 1\n",
    "            state = next_state\n",
    "\n",
    "            if is_gameover:\n",
    "                break\n",
    "\n",
    "            e *= e_decay\n",
    "        \n",
    "        if total_steps % (update_freq) == 0 and len(replay_buffer.buffer) > train_batch_size:\n",
    "            train_batch = replay_buffer.sample(train_batch_size)\n",
    "            train_x, train_Q = list(zip(*train_batch))\n",
    "            \n",
    "            #Update the network with our target values.\n",
    "            sess.run(update_model, feed_dict={\n",
    "                x: train_x,\n",
    "                nextQ: train_Q\n",
    "            })\n",
    "        \n",
    "        if episode_count % test_freq == 0 and episode_count != 0:\n",
    "            mean_time, min_time, max_time = test_accurracy()\n",
    "            mean_times.append(mean_time)\n",
    "\n",
    "            if episode_count % log_freq == 0:\n",
    "                print('step: %s, episode: %s, mean time: %s. min: %s. max: %s. random move probability: %s' \n",
    "                      % (total_steps, episode_count, mean_time, min_time, max_time, e))\n",
    "                \n",
    "            if mean_time > 196:\n",
    "                finished = True\n",
    "                \n",
    "        episode_count += 1\n",
    "        rewards.append(reward_tot)\n",
    "    env.close()"
   ]
  },
  {
   "cell_type": "markdown",
   "metadata": {},
   "source": [
    "### Metrics"
   ]
  },
  {
   "cell_type": "code",
   "execution_count": 10,
   "metadata": {
    "scrolled": true
   },
   "outputs": [
    {
     "data": {
      "image/png": "[encoded data removed]",
      "text/plain": [
       "<matplotlib.figure.Figure at 0x241bba18748>"
      ]
     },
     "metadata": {},
     "output_type": "display_data"
    }
   ],
   "source": [
    "import matplotlib.pyplot as plt\n",
    "plt.plot(mean_times)\n",
    "plt.xlabel('steps')\n",
    "plt.ylabel('mean time')\n",
    "plt.show()"
   ]
  },
  {
   "cell_type": "code",
   "execution_count": 11,
   "metadata": {},
   "outputs": [
    {
     "data": {
      "image/png": "[encoded data removed]",
      "text/plain": [
       "<matplotlib.figure.Figure at 0x241c297ec88>"
      ]
     },
     "metadata": {},
     "output_type": "display_data"
    }
   ],
   "source": [
    "f, (ax1, ax2) = plt.subplots(1, 2, sharey=True)\n",
    "ax1.plot(minus_hist)\n",
    "ax1.set_title('Minus QValues')\n",
    "ax2.plot(plus_hist)\n",
    "ax2.set_title('Plus QValues')\n",
    "plt.show()"
   ]
  },
  {
   "cell_type": "markdown",
   "metadata": {},
   "source": [
    "### Upload results on Gym OpenAI"
   ]
  },
  {
   "cell_type": "code",
   "execution_count": 9,
   "metadata": {},
   "outputs": [
    {
     "name": "stderr",
     "output_type": "stream",
     "text": [
      "[2017-08-26 17:33:59,265] [CartPole-v0] Uploading 801 episodes of training data\n",
      "[2017-08-26 17:34:02,189] [CartPole-v0] Uploading videos of 10 training episodes (75956 bytes)\n",
      "[2017-08-26 17:34:02,793] [CartPole-v0] Creating evaluation object from CartPole-record with learning curve and training video\n",
      "[2017-08-26 17:34:03,145] \n",
      "****************************************************\n",
      "You successfully uploaded your evaluation on CartPole-v0 to\n",
      "OpenAI Gym! You can find it at:\n",
      "\n",
      "    https://gym.openai.com/evaluations/eval_yii4hTCcRky6P5E2MIWihw\n",
      "\n",
      "****************************************************\n"
     ]
    }
   ],
   "source": [
    "gym.upload('CartPole-record', api_key='your_key')"
   ]
  }
 ],
 "metadata": {
  "kernelspec": {
   "display_name": "Python 3",
   "language": "python",
   "name": "python3"
  },
  "language_info": {
   "codemirror_mode": {
    "name": "ipython",
    "version": 3
   },
   "file_extension": ".py",
   "mimetype": "text/x-python",
   "name": "python",
   "nbconvert_exporter": "python",
   "pygments_lexer": "ipython3",
   "version": "3.5.3"
  }
 },
 "nbformat": 4,
 "nbformat_minor": 2
}
